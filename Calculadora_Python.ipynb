{
  "nbformat": 4,
  "nbformat_minor": 0,
  "metadata": {
    "colab": {
      "provenance": [],
      "authorship_tag": "ABX9TyMWb990Z2z+mYb/gM7vMe1X",
      "include_colab_link": true
    },
    "kernelspec": {
      "name": "python3",
      "display_name": "Python 3"
    },
    "language_info": {
      "name": "python"
    }
  },
  "cells": [
    {
      "cell_type": "markdown",
      "metadata": {
        "id": "view-in-github",
        "colab_type": "text"
      },
      "source": [
        "<a href=\"https://colab.research.google.com/github/DiegoSimon55/DiegoSimon55/blob/main/Calculadora_Python.ipynb\" target=\"_parent\"><img src=\"https://colab.research.google.com/assets/colab-badge.svg\" alt=\"Open In Colab\"/></a>"
      ]
    },
    {
      "cell_type": "code",
      "execution_count": 5,
      "metadata": {
        "colab": {
          "base_uri": "https://localhost:8080/"
        },
        "id": "lUGQNZEhJC_e",
        "outputId": "840768fc-5904-4846-e6d0-56705794fa14"
      },
      "outputs": [
        {
          "output_type": "stream",
          "name": "stdout",
          "text": [
            "Digite o primeiro valor: 10\n",
            "Digite o segundo valor: 10\n",
            "O valor da somas dos dois valores é:  20\n",
            "O Valor da subtração dos dois valores é:  0\n",
            "O valor da multiplicação dos dois valores é:  100\n",
            "O valor da divisão inteira dos dois valores é:  1\n",
            "O valor dos dois números é igual!\n"
          ]
        }
      ],
      "source": [
        "# Recebe informaçãoes digitadas pelo usuário\n",
        "num1 = input('Digite o primeiro valor: ')\n",
        "num2 = input('Digite o segundo valor: ')\n",
        "\n",
        "# Converte valores recebidos do usuário em inteiro\n",
        "val_1 = int(num1)\n",
        "val_2 = int(num2)\n",
        "\n",
        "# Operações matemáticas\n",
        "soma = int(num1) + int(num2)\n",
        "print('O valor da somas dos dois valores é: ',soma)\n",
        "\n",
        "subtracao = int(num1) - int(num2)\n",
        "print('O Valor da subtração dos dois valores é: ',subtracao)\n",
        "\n",
        "multiplicacao = int(num1) * int(num2)\n",
        "print('O valor da multiplicação dos dois valores é: ',multiplicacao)\n",
        "\n",
        "divisao = int(num1) // int(num2)\n",
        "print('O valor da divisão inteira dos dois valores é: ',divisao)\n",
        "\n",
        "# Comparar os valores\n",
        "val_1 = int(num1)\n",
        "val_2 = int(num2)\n",
        "\n",
        "if val_1 > val_2:\n",
        "  print('O primeiro valor digitado é o maior!')\n",
        "elif val_1 < val_2:\n",
        "  print('O primeiro valor digitado é o menor!')\n",
        "else:\n",
        "  print('O valor dos dois números é igual!')\n",
        "\n"
      ]
    }
  ]
}